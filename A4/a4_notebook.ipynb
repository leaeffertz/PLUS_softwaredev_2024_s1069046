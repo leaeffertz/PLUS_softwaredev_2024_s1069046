{
 "cells": [
  {
   "cell_type": "markdown",
   "metadata": {},
   "source": [
    "# Creating a cloud mask for Sentinel-2 imagery\n",
    "\n",
    "To continue working on our final project, I wanted to further play around with filtering satellite images by cloud coverage, since my attempt in a3 was not successful.\n",
    "In order to do so I followed the information given in the GEE documentation ([Sentinel-2 Cloud masking with s2cloudless](https://developers.google.com/earth-engine/tutorials/community/sentinel-2-s2cloudless)). I hope that this will provide a solid basis to work on for ourt project, since we have the idea to first roughly filter the collection (with a low high threshold of cloudless imagery), to then continue with only filtering the area of interest, which may be done on the pixel level.\n",
    "\n",
    "The task given requires us to use imports and ccreate docstrings, which is why I only showed the docstring in this notebook, and the resulting map in the end. The file `a4.py` contains additional comments on the procedure done.\n",
    "\n",
    "I chose to import everything from the `a4.py`-script, to not have an import for every function, this is not advisable for larger programs as it may negatively impact performance.\n",
    "\n",
    "I decided to create an image collection for the area surrounding Darmstadt, I looked for a fitting time frame and the coordinates needed in the earth engine app.\n",
    "\n",
    "##Getting started\n",
    "\n",
    "I started by importing the earth engine module provided by the python GEE API and also Folium, to later be able to add and display the masked image on a map. I then authenticated GEE and initialized the library i wanted to use.\n",
    "\n",
    "Then I set the following parameters:\n",
    "\n",
    "`AOI = ee.Geometry.Point(8.642, 49.877)` - set area of interest (Darmstadt)\n",
    "\n",
    "`START_DATE = \"2024-06-03\"` - set start date for collection\n",
    "\n",
    "`END_DATE = \"2024-06-04\"` - set end date for point up until which images need to be included\n",
    "\n",
    "`CLOUD_FILTER = 60` - set threshold on how many clouds are allowed (60%), the threshold is quite high to be able to showcase the masking better, and to inlude more images in the collection (%)\n",
    "\n",
    "`CLD_PRB_THRESH = 50` - set cloud probability, everything with a greater probability value in the collection is considered cloud (%)\n",
    "\n",
    "`NIR_DRK_THRESH = 0.15` - set Near Infrared reflectance for dark pixels that may be cloud shadows\n",
    "\n",
    "`CLD_PRJ_DIST = 1` - maximum distance from cloud to search for shadows (km)\n",
    "\n",
    "`BUFFER = 50` - buffer distance of cloud objects to include cloud-edges(m)\n",
    "\n",
    "## Join Sentinel 2 image collection with cloud probability collection\n"
   ]
  },
  {
   "cell_type": "code",
   "execution_count": 17,
   "metadata": {},
   "outputs": [
    {
     "name": "stdout",
     "output_type": "stream",
     "text": [
      "Help on function get_s2_sr_cld_col in module a4:\n",
      "\n",
      "get_s2_sr_cld_col(aoi, start_date, end_date)\n",
      "    Retrieves filtered collections of sentinel 2 images and joins the collection with\n",
      "    a cloud propability dataset to better detect clouds\n",
      "\n",
      "    Parameters:\n",
      "        aoi - ee.Geometry : Coordinates for area of interest\n",
      "        start_date - str : start date for collection (inclusive)\n",
      "        end_date - str : end date for colection (exclusive)\n",
      "\n",
      "    Returns:\n",
      "        ee.ImageCollection: filtered collection of Sentinel-2 images joined with cloud\n",
      "        probability data\n",
      "\n"
     ]
    }
   ],
   "source": [
    "from a4 import *\n",
    "\n",
    "help(get_s2_sr_cld_col)"
   ]
  },
  {
   "cell_type": "markdown",
   "metadata": {},
   "source": [
    "## Add Clouds to mask\n"
   ]
  },
  {
   "cell_type": "code",
   "execution_count": 18,
   "metadata": {},
   "outputs": [
    {
     "name": "stdout",
     "output_type": "stream",
     "text": [
      "Help on function add_cloud_bands in module a4:\n",
      "\n",
      "add_cloud_bands(img)\n",
      "    Adds data as bands from previous dataset to the image\n",
      "\n",
      "    Parameters:\n",
      "        img - ee.Image : input image that will be mask\n",
      "\n",
      "    Returns:\n",
      "        img / ee.Image : original image, with bands added\n",
      "\n"
     ]
    }
   ],
   "source": [
    "help(add_cloud_bands)"
   ]
  },
  {
   "cell_type": "markdown",
   "metadata": {},
   "source": [
    "## Identify potential shadows\n",
    "\n",
    "In order to identify the shadows cast by the clouds, first we select all the values from the Scene Classification Values (SCL) - Band, that are not classified as water.\n",
    "\n",
    "Then we proceed by identifying dark pixels and calculating the mean angle from which the clouds cast shadows, to then classify the shadows.\n"
   ]
  },
  {
   "cell_type": "markdown",
   "metadata": {},
   "source": []
  },
  {
   "cell_type": "code",
   "execution_count": 19,
   "metadata": {},
   "outputs": [
    {
     "name": "stdout",
     "output_type": "stream",
     "text": [
      "Help on function add_shadow_bands in module a4:\n",
      "\n",
      "add_shadow_bands(img)\n",
      "    Identifies potential cloud shadows by pxel value and adds them to mask\n",
      "\n",
      "    Parameters:\n",
      "        img - ee.Image : input image, taht will be mask\n",
      "\n",
      "    Returns:\n",
      "        ee.Image : mask, now with added shadow and dark px bands\n",
      "\n"
     ]
    }
   ],
   "source": [
    "help(add_shadow_bands)"
   ]
  },
  {
   "cell_type": "code",
   "execution_count": 20,
   "metadata": {},
   "outputs": [
    {
     "name": "stdout",
     "output_type": "stream",
     "text": [
      "Help on function add_cld_shdw_mask in module a4:\n",
      "\n",
      "add_cld_shdw_mask(img)\n",
      "    Combines cloud and shadow identification from separate functions into a single cloud-\n",
      "    shadow mask. This mask helps in visualizing and analyzing areas affected by clouds and\n",
      "    shadows.\n",
      "\n",
      "    Parameters:\n",
      "    - img (ee.Image): The input image to which cloud-shadow mask will be added.\n",
      "\n",
      "    Returns:\n",
      "    - ee.Image: The original image with added cloud-shadow mask band.\n",
      "\n"
     ]
    }
   ],
   "source": [
    "help(add_cld_shdw_mask)"
   ]
  },
  {
   "cell_type": "code",
   "execution_count": 21,
   "metadata": {},
   "outputs": [
    {
     "name": "stdout",
     "output_type": "stream",
     "text": [
      "Help on function add_ee_layer in module a4:\n",
      "\n",
      "add_ee_layer(self, ee_image_object, vis_params, name, show=True, opacity=1, min_zoom=0)\n",
      "    Adds an Earth Engine image layer to a Folium map. This function facilitates the\n",
      "    visualization of Earth Engine datasets on interactive maps.\n",
      "\n",
      "    Parameters:\n",
      "    - self (folium.Map): The Folium map instance to which the layer will be added.\n",
      "    - ee_image_object (ee.Image): The Earth Engine image object to visualize.\n",
      "    - vis_params (dict): Visualization parameters including bands, min/max values, and gamma.\n",
      "    - name (str): The name of the layer.\n",
      "    - show (bool): Whether to display the layer initially.\n",
      "    - opacity (float): Opacity level of the layer.\n",
      "    - min_zoom (int): Minimum zoom level at which the layer should be visible.\n",
      "\n"
     ]
    }
   ],
   "source": [
    "help(add_ee_layer)"
   ]
  },
  {
   "cell_type": "code",
   "execution_count": 22,
   "metadata": {},
   "outputs": [
    {
     "name": "stdout",
     "output_type": "stream",
     "text": [
      "Help on function display_cloud_layers in module a4:\n",
      "\n",
      "display_cloud_layers(col)\n",
      "    Displays various cloud-related layers derived from a Sentinel-2 image collection on a\n",
      "    Folium map. This includes cloud probability, cloud masks, and shadow projections.\n",
      "\n",
      "    Parameters:\n",
      "    - col (ee.ImageCollection): The Sentinel-2 image collection to process and display.\n",
      "\n"
     ]
    }
   ],
   "source": [
    "help(display_cloud_layers)"
   ]
  },
  {
   "cell_type": "code",
   "execution_count": 23,
   "metadata": {},
   "outputs": [
    {
     "data": {
      "text/html": [
       "<div style=\"width:100%;\"><div style=\"position:relative;width:100%;height:0;padding-bottom:60%;\"><span style=\"color:#565656\">Make this Notebook Trusted to load map: File -> Trust Notebook</span><iframe srcdoc=\"&lt;!DOCTYPE html&gt;\n",
       "&lt;html&gt;\n",
       "&lt;head&gt;\n",
       "    \n",
       "    &lt;meta http-equiv=&quot;content-type&quot; content=&quot;text/html; charset=UTF-8&quot; /&gt;\n",
       "    \n",
       "        &lt;script&gt;\n",
       "            L_NO_TOUCH = false;\n",
       "            L_DISABLE_3D = false;\n",
       "        &lt;/script&gt;\n",
       "    \n",
       "    &lt;style&gt;html, body {width: 100%;height: 100%;margin: 0;padding: 0;}&lt;/style&gt;\n",
       "    &lt;style&gt;#map {position:absolute;top:0;bottom:0;right:0;left:0;}&lt;/style&gt;\n",
       "    &lt;script src=&quot;https://cdn.jsdelivr.net/npm/leaflet@1.9.3/dist/leaflet.js&quot;&gt;&lt;/script&gt;\n",
       "    &lt;script src=&quot;https://code.jquery.com/jquery-1.12.4.min.js&quot;&gt;&lt;/script&gt;\n",
       "    &lt;script src=&quot;https://cdn.jsdelivr.net/npm/bootstrap@5.2.2/dist/js/bootstrap.bundle.min.js&quot;&gt;&lt;/script&gt;\n",
       "    &lt;script src=&quot;https://cdnjs.cloudflare.com/ajax/libs/Leaflet.awesome-markers/2.0.2/leaflet.awesome-markers.js&quot;&gt;&lt;/script&gt;\n",
       "    &lt;link rel=&quot;stylesheet&quot; href=&quot;https://cdn.jsdelivr.net/npm/leaflet@1.9.3/dist/leaflet.css&quot;/&gt;\n",
       "    &lt;link rel=&quot;stylesheet&quot; href=&quot;https://cdn.jsdelivr.net/npm/bootstrap@5.2.2/dist/css/bootstrap.min.css&quot;/&gt;\n",
       "    &lt;link rel=&quot;stylesheet&quot; href=&quot;https://netdna.bootstrapcdn.com/bootstrap/3.0.0/css/bootstrap.min.css&quot;/&gt;\n",
       "    &lt;link rel=&quot;stylesheet&quot; href=&quot;https://cdn.jsdelivr.net/npm/@fortawesome/fontawesome-free@6.2.0/css/all.min.css&quot;/&gt;\n",
       "    &lt;link rel=&quot;stylesheet&quot; href=&quot;https://cdnjs.cloudflare.com/ajax/libs/Leaflet.awesome-markers/2.0.2/leaflet.awesome-markers.css&quot;/&gt;\n",
       "    &lt;link rel=&quot;stylesheet&quot; href=&quot;https://cdn.jsdelivr.net/gh/python-visualization/folium/folium/templates/leaflet.awesome.rotate.min.css&quot;/&gt;\n",
       "    \n",
       "            &lt;meta name=&quot;viewport&quot; content=&quot;width=device-width,\n",
       "                initial-scale=1.0, maximum-scale=1.0, user-scalable=no&quot; /&gt;\n",
       "            &lt;style&gt;\n",
       "                #map_443e6fb6721b69ab6694a79f0f565c13 {\n",
       "                    position: relative;\n",
       "                    width: 100.0%;\n",
       "                    height: 100.0%;\n",
       "                    left: 0.0%;\n",
       "                    top: 0.0%;\n",
       "                }\n",
       "                .leaflet-container { font-size: 1rem; }\n",
       "            &lt;/style&gt;\n",
       "        \n",
       "&lt;/head&gt;\n",
       "&lt;body&gt;\n",
       "    \n",
       "    \n",
       "            &lt;div class=&quot;folium-map&quot; id=&quot;map_443e6fb6721b69ab6694a79f0f565c13&quot; &gt;&lt;/div&gt;\n",
       "        \n",
       "&lt;/body&gt;\n",
       "&lt;script&gt;\n",
       "    \n",
       "    \n",
       "            var map_443e6fb6721b69ab6694a79f0f565c13 = L.map(\n",
       "                &quot;map_443e6fb6721b69ab6694a79f0f565c13&quot;,\n",
       "                {\n",
       "                    center: [49.877, 8.642],\n",
       "                    crs: L.CRS.EPSG3857,\n",
       "                    zoom: 12,\n",
       "                    zoomControl: true,\n",
       "                    preferCanvas: false,\n",
       "                }\n",
       "            );\n",
       "\n",
       "            \n",
       "\n",
       "        \n",
       "    \n",
       "            var tile_layer_113e072d78b22c2f09727a0f37130a06 = L.tileLayer(\n",
       "                &quot;https://{s}.tile.openstreetmap.org/{z}/{x}/{y}.png&quot;,\n",
       "                {&quot;attribution&quot;: &quot;Data by \\u0026copy; \\u003ca target=\\&quot;_blank\\&quot; href=\\&quot;http://openstreetmap.org\\&quot;\\u003eOpenStreetMap\\u003c/a\\u003e, under \\u003ca target=\\&quot;_blank\\&quot; href=\\&quot;http://www.openstreetmap.org/copyright\\&quot;\\u003eODbL\\u003c/a\\u003e.&quot;, &quot;detectRetina&quot;: false, &quot;maxNativeZoom&quot;: 18, &quot;maxZoom&quot;: 18, &quot;minZoom&quot;: 0, &quot;noWrap&quot;: false, &quot;opacity&quot;: 1, &quot;subdomains&quot;: &quot;abc&quot;, &quot;tms&quot;: false}\n",
       "            ).addTo(map_443e6fb6721b69ab6694a79f0f565c13);\n",
       "        \n",
       "    \n",
       "            var tile_layer_8efef291a8dfea151f794359a2707eec = L.tileLayer(\n",
       "                &quot;https://earthengine.googleapis.com/v1/projects/ee-psd/maps/d1b223a4336541a3adabc7335792bc36-21cc301b565b3e2037226d2444e4e033/tiles/{z}/{x}/{y}&quot;,\n",
       "                {&quot;attribution&quot;: &quot;Map Data \\u0026copy; \\u003ca href=\\&quot;https://earthengine.google.com/\\&quot;\\u003eGoogle Earth Engine\\u003c/a\\u003e&quot;, &quot;detectRetina&quot;: false, &quot;maxNativeZoom&quot;: 18, &quot;maxZoom&quot;: 18, &quot;minZoom&quot;: 9, &quot;noWrap&quot;: false, &quot;opacity&quot;: 1, &quot;subdomains&quot;: &quot;abc&quot;, &quot;tms&quot;: false}\n",
       "            ).addTo(map_443e6fb6721b69ab6694a79f0f565c13);\n",
       "        \n",
       "    \n",
       "            var tile_layer_e10b67603768485a84cf6552077981fd = L.tileLayer(\n",
       "                &quot;https://earthengine.googleapis.com/v1/projects/ee-psd/maps/eca2104df7ed2b11e44b10d34b3dda02-daa0062bd81edbd91503678ad6223f9f/tiles/{z}/{x}/{y}&quot;,\n",
       "                {&quot;attribution&quot;: &quot;Map Data \\u0026copy; \\u003ca href=\\&quot;https://earthengine.google.com/\\&quot;\\u003eGoogle Earth Engine\\u003c/a\\u003e&quot;, &quot;detectRetina&quot;: false, &quot;maxNativeZoom&quot;: 18, &quot;maxZoom&quot;: 18, &quot;minZoom&quot;: 9, &quot;noWrap&quot;: false, &quot;opacity&quot;: 1, &quot;subdomains&quot;: &quot;abc&quot;, &quot;tms&quot;: false}\n",
       "            ).addTo(map_443e6fb6721b69ab6694a79f0f565c13);\n",
       "        \n",
       "    \n",
       "            var tile_layer_2855936a92acd64a8e9d48f2c96908c2 = L.tileLayer(\n",
       "                &quot;https://earthengine.googleapis.com/v1/projects/ee-psd/maps/40e18eedb0f2220730644fea1186367d-f04797b9878ed6d3e0f87ade58e929ba/tiles/{z}/{x}/{y}&quot;,\n",
       "                {&quot;attribution&quot;: &quot;Map Data \\u0026copy; \\u003ca href=\\&quot;https://earthengine.google.com/\\&quot;\\u003eGoogle Earth Engine\\u003c/a\\u003e&quot;, &quot;detectRetina&quot;: false, &quot;maxNativeZoom&quot;: 18, &quot;maxZoom&quot;: 18, &quot;minZoom&quot;: 9, &quot;noWrap&quot;: false, &quot;opacity&quot;: 1, &quot;subdomains&quot;: &quot;abc&quot;, &quot;tms&quot;: false}\n",
       "            ).addTo(map_443e6fb6721b69ab6694a79f0f565c13);\n",
       "        \n",
       "    \n",
       "            var tile_layer_f2b354aa0d4a4b64c706ee70d63f82d4 = L.tileLayer(\n",
       "                &quot;https://earthengine.googleapis.com/v1/projects/ee-psd/maps/fbd27aa27ae21fa226ee7a499dc22575-5070970f31cab59fe8d6db43dd5ea2bc/tiles/{z}/{x}/{y}&quot;,\n",
       "                {&quot;attribution&quot;: &quot;Map Data \\u0026copy; \\u003ca href=\\&quot;https://earthengine.google.com/\\&quot;\\u003eGoogle Earth Engine\\u003c/a\\u003e&quot;, &quot;detectRetina&quot;: false, &quot;maxNativeZoom&quot;: 18, &quot;maxZoom&quot;: 18, &quot;minZoom&quot;: 9, &quot;noWrap&quot;: false, &quot;opacity&quot;: 1, &quot;subdomains&quot;: &quot;abc&quot;, &quot;tms&quot;: false}\n",
       "            ).addTo(map_443e6fb6721b69ab6694a79f0f565c13);\n",
       "        \n",
       "    \n",
       "            var tile_layer_1f1fb9e9b559ce1f06fa4d65c116f177 = L.tileLayer(\n",
       "                &quot;https://earthengine.googleapis.com/v1/projects/ee-psd/maps/687787013d18c4948b7a4e0e821bcc9a-3373c60a35c58946cef4ea4aff997a27/tiles/{z}/{x}/{y}&quot;,\n",
       "                {&quot;attribution&quot;: &quot;Map Data \\u0026copy; \\u003ca href=\\&quot;https://earthengine.google.com/\\&quot;\\u003eGoogle Earth Engine\\u003c/a\\u003e&quot;, &quot;detectRetina&quot;: false, &quot;maxNativeZoom&quot;: 18, &quot;maxZoom&quot;: 18, &quot;minZoom&quot;: 9, &quot;noWrap&quot;: false, &quot;opacity&quot;: 1, &quot;subdomains&quot;: &quot;abc&quot;, &quot;tms&quot;: false}\n",
       "            ).addTo(map_443e6fb6721b69ab6694a79f0f565c13);\n",
       "        \n",
       "    \n",
       "            var tile_layer_58d9edf6d8ca6bfbfe7124af26a90ba4 = L.tileLayer(\n",
       "                &quot;https://earthengine.googleapis.com/v1/projects/ee-psd/maps/8168d488ce25f29a201c2a56167a0af7-563b8857a07746cd639bc38a9a1287d0/tiles/{z}/{x}/{y}&quot;,\n",
       "                {&quot;attribution&quot;: &quot;Map Data \\u0026copy; \\u003ca href=\\&quot;https://earthengine.google.com/\\&quot;\\u003eGoogle Earth Engine\\u003c/a\\u003e&quot;, &quot;detectRetina&quot;: false, &quot;maxNativeZoom&quot;: 18, &quot;maxZoom&quot;: 18, &quot;minZoom&quot;: 9, &quot;noWrap&quot;: false, &quot;opacity&quot;: 1, &quot;subdomains&quot;: &quot;abc&quot;, &quot;tms&quot;: false}\n",
       "            ).addTo(map_443e6fb6721b69ab6694a79f0f565c13);\n",
       "        \n",
       "    \n",
       "            var tile_layer_c13c84781d700ebcf6b59add0e45b30f = L.tileLayer(\n",
       "                &quot;https://earthengine.googleapis.com/v1/projects/ee-psd/maps/acd2709cf3f502c9bafc47e929a75dc3-8530c84a630b21ce9a125ca0479c75cc/tiles/{z}/{x}/{y}&quot;,\n",
       "                {&quot;attribution&quot;: &quot;Map Data \\u0026copy; \\u003ca href=\\&quot;https://earthengine.google.com/\\&quot;\\u003eGoogle Earth Engine\\u003c/a\\u003e&quot;, &quot;detectRetina&quot;: false, &quot;maxNativeZoom&quot;: 18, &quot;maxZoom&quot;: 18, &quot;minZoom&quot;: 9, &quot;noWrap&quot;: false, &quot;opacity&quot;: 0.5, &quot;subdomains&quot;: &quot;abc&quot;, &quot;tms&quot;: false}\n",
       "            ).addTo(map_443e6fb6721b69ab6694a79f0f565c13);\n",
       "        \n",
       "    \n",
       "            var layer_control_cd06649522eb92c99b05278a24e10ba4 = {\n",
       "                base_layers : {\n",
       "                    &quot;openstreetmap&quot; : tile_layer_113e072d78b22c2f09727a0f37130a06,\n",
       "                },\n",
       "                overlays :  {\n",
       "                    &quot;S2 image&quot; : tile_layer_8efef291a8dfea151f794359a2707eec,\n",
       "                    &quot;probability (cloud)&quot; : tile_layer_e10b67603768485a84cf6552077981fd,\n",
       "                    &quot;clouds&quot; : tile_layer_2855936a92acd64a8e9d48f2c96908c2,\n",
       "                    &quot;cloud_transform&quot; : tile_layer_f2b354aa0d4a4b64c706ee70d63f82d4,\n",
       "                    &quot;dark_pixels&quot; : tile_layer_1f1fb9e9b559ce1f06fa4d65c116f177,\n",
       "                    &quot;shadows&quot; : tile_layer_58d9edf6d8ca6bfbfe7124af26a90ba4,\n",
       "                    &quot;cloudmask&quot; : tile_layer_c13c84781d700ebcf6b59add0e45b30f,\n",
       "                },\n",
       "            };\n",
       "            L.control.layers(\n",
       "                layer_control_cd06649522eb92c99b05278a24e10ba4.base_layers,\n",
       "                layer_control_cd06649522eb92c99b05278a24e10ba4.overlays,\n",
       "                {&quot;autoZIndex&quot;: true, &quot;collapsed&quot;: true, &quot;position&quot;: &quot;topright&quot;}\n",
       "            ).addTo(map_443e6fb6721b69ab6694a79f0f565c13);\n",
       "            tile_layer_e10b67603768485a84cf6552077981fd.remove();\n",
       "            tile_layer_2855936a92acd64a8e9d48f2c96908c2.remove();\n",
       "            tile_layer_f2b354aa0d4a4b64c706ee70d63f82d4.remove();\n",
       "            tile_layer_1f1fb9e9b559ce1f06fa4d65c116f177.remove();\n",
       "            tile_layer_58d9edf6d8ca6bfbfe7124af26a90ba4.remove();\n",
       "        \n",
       "&lt;/script&gt;\n",
       "&lt;/html&gt;\" style=\"position:absolute;width:100%;height:100%;left:0;top:0;border:none !important;\" allowfullscreen webkitallowfullscreen mozallowfullscreen></iframe></div></div>"
      ],
      "text/plain": [
       "<folium.folium.Map at 0x2a3e04578f0>"
      ]
     },
     "metadata": {},
     "output_type": "display_data"
    }
   ],
   "source": [
    "#from a4 import display_cloud_layers,s2_sr_cld_col_eval_disp \n",
    "\n",
    "display_cloud_layers(s2_sr_cld_col_eval_disp)\n"
   ]
  }
 ],
 "metadata": {
  "kernelspec": {
   "display_name": "psda4",
   "language": "python",
   "name": "python3"
  },
  "language_info": {
   "codemirror_mode": {
    "name": "ipython",
    "version": 3
   },
   "file_extension": ".py",
   "mimetype": "text/x-python",
   "name": "python",
   "nbconvert_exporter": "python",
   "pygments_lexer": "ipython3",
   "version": "3.12.4"
  }
 },
 "nbformat": 4,
 "nbformat_minor": 2
}
