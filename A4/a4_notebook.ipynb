{
 "cells": [
  {
   "cell_type": "markdown",
   "metadata": {},
   "source": [
    "Create a .py file containing:\n",
    "\n",
    "    a script docstring (i.e. docstring at the top of the document)\n",
    "    module/script docstrings: https://realpython.com/documenting-python-code/#script-docstrings\n",
    "    3+ (geospecific) functions, importing the necessary libraries in the script\n",
    "    docstrings for each function + comments throughout if more complex\n",
    "    General docstring convention: https://peps.python.org/pep-0257/\n",
    "\n",
    "Import and use the functions in a notebook, and explain with markdown cells\n",
    "\n",
    "Commit the notebook to your own repo along with the .py file that includes the functions and a conda environment file or other means of documenting the dependencies/environment."
   ]
  },
  {
   "cell_type": "markdown",
   "metadata": {},
   "source": [
    "To continue working on our final project, I wanted to further play around with filtering satellite images by cloud coverage. In order to do so I folowed the tutorial [Sentinel-2 Cloud masking with s2cloudless](https://developers.google.com/earth-engine/tutorials/community/sentinel-2-s2cloudless).\n",
    "\n",
    "As instructed, the functions are saved in a separate python file and imported into the notebook.\n",
    "\n",
    "I started by initialising GEE:\n"
   ]
  },
  {
   "cell_type": "code",
   "execution_count": null,
   "metadata": {
    "vscode": {
     "languageId": "plaintext"
    }
   },
   "outputs": [],
   "source": [
    "import ee\n",
    "\n",
    "# authenticate earth engine\n",
    "ee.Authenticate()\n",
    "\n",
    "# initialize the library I use\n",
    "ee.Initialize(project=\"a4\")\n"
   ]
  },
  {
   "cell_type": "markdown",
   "metadata": {},
   "source": []
  },
  {
   "cell_type": "code",
   "execution_count": null,
   "metadata": {
    "vscode": {
     "languageId": "plaintext"
    }
   },
   "outputs": [],
   "source": []
  },
  {
   "cell_type": "markdown",
   "metadata": {},
   "source": []
  }
 ],
 "metadata": {
  "language_info": {
   "name": "python"
  }
 },
 "nbformat": 4,
 "nbformat_minor": 2
}
