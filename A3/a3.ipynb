{
 "cells": [
  {
   "cell_type": "markdown",
   "metadata": {},
   "source": [
    "## Calculate Cloud cover using Python\n",
    "Since we want to work with cloud coverage in stellite images in our final project,
     I thought getting familiar with using it in a local environment is a good idea.\n",
    "\n",
    "In this project I want to try to create a cloud mask for Landsat-8 imagery, with rasterio and rio-l8qa (a Library for processing Landsat data).\n",
    "\n",
    "In order to do so I took the following steps:\n"
   ]
  },
  {
   "cell_type": "code",
   "execution_count": null,
   "metadata": {},
   "outputs": [],
   "source": []
  }
 ],
 "metadata": {
  "language_info": {
   "name": "python"
  }
 },
 "nbformat": 4,
 "nbformat_minor": 2
}
