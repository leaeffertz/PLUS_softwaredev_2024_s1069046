{
 "cells": [
  {
   "cell_type": "markdown",
   "metadata": {},
   "source": [
    "## Satellite Imagery Analysis using Python\n",
    "Since we want to work with GEE in our final project, I thought getting familiar with using it in a local environment is a good idea.\n",
    "\n",
    "In this project I want to try to first connect to the GEE-Python API and then classify satellite imagery by landcover and represent the results using Folium.\n",
    "\n",
    "In order to do so I took the following steps:\n"
   ]
  },
  {
   "cell_type": "code",
   "execution_count": null,
   "metadata": {},
   "outputs": [],
   "source": []
  }
 ],
 "metadata": {
  "language_info": {
   "name": "python"
  }
 },
 "nbformat": 4,
 "nbformat_minor": 2
}
