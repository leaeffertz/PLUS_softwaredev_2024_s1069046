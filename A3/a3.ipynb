{
 "cells": [
  {
   "cell_type": "markdown",
   "metadata": {},
   "source": [
    "## Calculate Cloud cover using Python\n",
    "Since we want to work with cloud coverage in stellite images in our final project,I thought getting familiar with using it in a local environment is a good idea.\n",
    "\n",
    "In this project I want to try to create a cloud mask for Landsat-8 imagery, with rasterio and rio-l8qa (a Library for processing Landsat data).\n",
    "\n",
    "In order to do so I took the following steps:\n",
    "\n",
    "1. Acquiring the satellite image we want to calculate cloud cover for.\n",
    "2. Installing the necessary libraries, which are in our case rasterio and rio-l8qa"
   ]
  },
  {
   "cell_type": "code",
   "execution_count": 2,
   "metadata": {},
   "outputs": [
    {
     "name": "stdout",
     "output_type": "stream",
     "text": [
      "Requirement already satisfied: rasterio in /Library/Frameworks/Python.framework/Versions/3.7/lib/python3.7/site-packages (1.2.10)\n",
      "Requirement already satisfied: affine in /Library/Frameworks/Python.framework/Versions/3.7/lib/python3.7/site-packages (from rasterio) (2.4.0)\n",
      "Requirement already satisfied: attrs in /Library/Frameworks/Python.framework/Versions/3.7/lib/python3.7/site-packages (from rasterio) (23.2.0)\n",
      "Requirement already satisfied: certifi in /Library/Frameworks/Python.framework/Versions/3.7/lib/python3.7/site-packages (from rasterio) (2022.12.7)\n",
      "Requirement already satisfied: click>=4.0 in /Library/Frameworks/Python.framework/Versions/3.7/lib/python3.7/site-packages (from rasterio) (8.1.7)\n",
      "Requirement already satisfied: cligj>=0.5 in /Library/Frameworks/Python.framework/Versions/3.7/lib/python3.7/site-packages (from rasterio) (0.7.2)\n",
      "Requirement already satisfied: numpy in /Library/Frameworks/Python.framework/Versions/3.7/lib/python3.7/site-packages (from rasterio) (1.21.6)\n",
      "Requirement already satisfied: snuggs>=1.4.1 in /Library/Frameworks/Python.framework/Versions/3.7/lib/python3.7/site-packages (from rasterio) (1.4.7)\n",
      "Requirement already satisfied: click-plugins in /Library/Frameworks/Python.framework/Versions/3.7/lib/python3.7/site-packages (from rasterio) (1.1.1)\n",
      "Requirement already satisfied: setuptools in /Library/Frameworks/Python.framework/Versions/3.7/lib/python3.7/site-packages (from rasterio) (40.8.0)\n",
      "Requirement already satisfied: importlib-metadata in /Library/Frameworks/Python.framework/Versions/3.7/lib/python3.7/site-packages (from click>=4.0->rasterio) (6.7.0)\n",
      "Requirement already satisfied: pyparsing>=2.1.6 in /Library/Frameworks/Python.framework/Versions/3.7/lib/python3.7/site-packages (from snuggs>=1.4.1->rasterio) (3.0.9)\n",
      "Requirement already satisfied: zipp>=0.5 in /Library/Frameworks/Python.framework/Versions/3.7/lib/python3.7/site-packages (from importlib-metadata->click>=4.0->rasterio) (3.15.0)\n",
      "Requirement already satisfied: typing-extensions>=3.6.4 in /Library/Frameworks/Python.framework/Versions/3.7/lib/python3.7/site-packages (from importlib-metadata->click>=4.0->rasterio) (4.4.0)\n",
      "Note: you may need to restart the kernel to use updated packages.\n",
      "Requirement already satisfied: rio-l8qa in /Library/Frameworks/Python.framework/Versions/3.7/lib/python3.7/site-packages (0.1.1)\n",
      "Requirement already satisfied: click in /Library/Frameworks/Python.framework/Versions/3.7/lib/python3.7/site-packages (from rio-l8qa) (8.1.7)\n",
      "Requirement already satisfied: rasterio>=0.36 in /Library/Frameworks/Python.framework/Versions/3.7/lib/python3.7/site-packages (from rio-l8qa) (1.2.10)\n",
      "Requirement already satisfied: affine in /Library/Frameworks/Python.framework/Versions/3.7/lib/python3.7/site-packages (from rasterio>=0.36->rio-l8qa) (2.4.0)\n",
      "Requirement already satisfied: attrs in /Library/Frameworks/Python.framework/Versions/3.7/lib/python3.7/site-packages (from rasterio>=0.36->rio-l8qa) (23.2.0)\n",
      "Requirement already satisfied: certifi in /Library/Frameworks/Python.framework/Versions/3.7/lib/python3.7/site-packages (from rasterio>=0.36->rio-l8qa) (2022.12.7)\n",
      "Requirement already satisfied: cligj>=0.5 in /Library/Frameworks/Python.framework/Versions/3.7/lib/python3.7/site-packages (from rasterio>=0.36->rio-l8qa) (0.7.2)\n",
      "Requirement already satisfied: numpy in /Library/Frameworks/Python.framework/Versions/3.7/lib/python3.7/site-packages (from rasterio>=0.36->rio-l8qa) (1.21.6)\n",
      "Requirement already satisfied: snuggs>=1.4.1 in /Library/Frameworks/Python.framework/Versions/3.7/lib/python3.7/site-packages (from rasterio>=0.36->rio-l8qa) (1.4.7)\n",
      "Requirement already satisfied: click-plugins in /Library/Frameworks/Python.framework/Versions/3.7/lib/python3.7/site-packages (from rasterio>=0.36->rio-l8qa) (1.1.1)\n",
      "Requirement already satisfied: setuptools in /Library/Frameworks/Python.framework/Versions/3.7/lib/python3.7/site-packages (from rasterio>=0.36->rio-l8qa) (40.8.0)\n",
      "Requirement already satisfied: importlib-metadata in /Library/Frameworks/Python.framework/Versions/3.7/lib/python3.7/site-packages (from click->rio-l8qa) (6.7.0)\n",
      "Requirement already satisfied: pyparsing>=2.1.6 in /Library/Frameworks/Python.framework/Versions/3.7/lib/python3.7/site-packages (from snuggs>=1.4.1->rasterio>=0.36->rio-l8qa) (3.0.9)\n",
      "Requirement already satisfied: zipp>=0.5 in /Library/Frameworks/Python.framework/Versions/3.7/lib/python3.7/site-packages (from importlib-metadata->click->rio-l8qa) (3.15.0)\n",
      "Requirement already satisfied: typing-extensions>=3.6.4 in /Library/Frameworks/Python.framework/Versions/3.7/lib/python3.7/site-packages (from importlib-metadata->click->rio-l8qa) (4.4.0)\n",
      "Note: you may need to restart the kernel to use updated packages.\n"
     ]
    }
   ],
   "source": [
    "%pip install rasterio\n",
    "%pip install rio-l8qa"
   ]
  },
  {
   "cell_type": "markdown",
   "metadata": {},
   "source": []
  },
  {
   "cell_type": "code",
   "execution_count": null,
   "metadata": {},
   "outputs": [],
   "source": [
    "import glob\n",
    "import os\n",
    "import rasterio\n",
    "from l8qa.qa import write_cloud_mask\n",
    "\n",
    "# Directory containing landsat data\n",
    "landsat_dir = \"l8\""
   ]
  }
 ],
 "metadata": {
  "kernelspec": {
   "display_name": "Python 3",
   "language": "python",
   "name": "python3"
  },
  "language_info": {
   "codemirror_mode": {
    "name": "ipython",
    "version": 3
   },
   "file_extension": ".py",
   "mimetype": "text/x-python",
   "name": "python",
   "nbconvert_exporter": "python",
   "pygments_lexer": "ipython3",
   "version": "3.7.4"
  }
 },
 "nbformat": 4,
 "nbformat_minor": 2
}
