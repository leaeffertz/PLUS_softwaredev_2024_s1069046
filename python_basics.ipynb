{
  "nbformat": 4,
  "nbformat_minor": 0,
  "metadata": {
    "colab": {
      "provenance": []
    },
    "kernelspec": {
      "name": "python3",
      "display_name": "Python 3"
    },
    "language_info": {
      "name": "python"
    }
  },
  "cells": [
    {
      "cell_type": "code",
      "execution_count": 6,
      "metadata": {
        "id": "OTfFOaFk8g-5"
      },
      "outputs": [],
      "source": [
        "# this is a comment in a single line"
      ]
    },
    {
      "cell_type": "code",
      "source": [
        "'''  this is another way to write\n",
        " a comment! '''"
      ],
      "metadata": {
        "colab": {
          "base_uri": "https://localhost:8080/",
          "height": 36
        },
        "id": "LJXHtwpv9VDF",
        "outputId": "500f5d63-c24f-43d5-cace-3dadc1b7d4b2"
      },
      "execution_count": 7,
      "outputs": [
        {
          "output_type": "execute_result",
          "data": {
            "text/plain": [
              "'  this is another way to write\\n a comment! '"
            ],
            "application/vnd.google.colaboratory.intrinsic+json": {
              "type": "string"
            }
          },
          "metadata": {},
          "execution_count": 7
        }
      ]
    },
    {
      "cell_type": "code",
      "source": [
        "\"\"\"more ways to commets yay \\n\n",
        "also in multiple lines!\"\"\""
      ],
      "metadata": {
        "colab": {
          "base_uri": "https://localhost:8080/",
          "height": 36
        },
        "id": "j4uI6STt9Xzc",
        "outputId": "965e913b-c87c-4f40-ff79-3545476a3f02"
      },
      "execution_count": 5,
      "outputs": [
        {
          "output_type": "execute_result",
          "data": {
            "text/plain": [
              "'more ways to commets yay \\n\\nalso in multiple lines!'"
            ],
            "application/vnd.google.colaboratory.intrinsic+json": {
              "type": "string"
            }
          },
          "metadata": {},
          "execution_count": 5
        }
      ]
    },
    {
      "cell_type": "code",
      "source": [
        "variable = 45\n",
        "variable_2 = 'this is text'\n",
        "variable_3 = 45.474\n",
        "variable_4 = False\n",
        "variable_5 = None"
      ],
      "metadata": {
        "id": "E74UIVtF-N6C"
      },
      "execution_count": 12,
      "outputs": []
    },
    {
      "cell_type": "code",
      "source": [
        "variable_2"
      ],
      "metadata": {
        "colab": {
          "base_uri": "https://localhost:8080/",
          "height": 36
        },
        "id": "7c3Vf_xz-XuE",
        "outputId": "a4372aca-2d2e-4383-95ff-fd3d60921821"
      },
      "execution_count": 10,
      "outputs": [
        {
          "output_type": "execute_result",
          "data": {
            "text/plain": [
              "'this is text'"
            ],
            "application/vnd.google.colaboratory.intrinsic+json": {
              "type": "string"
            }
          },
          "metadata": {},
          "execution_count": 10
        }
      ]
    },
    {
      "cell_type": "code",
      "source": [
        "type(variable_3)"
      ],
      "metadata": {
        "colab": {
          "base_uri": "https://localhost:8080/"
        },
        "id": "n95YKXxs-cmt",
        "outputId": "a0aed792-34b2-479b-b161-00f255b8f5e5"
      },
      "execution_count": 17,
      "outputs": [
        {
          "output_type": "execute_result",
          "data": {
            "text/plain": [
              "float"
            ]
          },
          "metadata": {},
          "execution_count": 17
        }
      ]
    },
    {
      "cell_type": "code",
      "source": [
        "import sys\n",
        "\n",
        "type(sys)"
      ],
      "metadata": {
        "colab": {
          "base_uri": "https://localhost:8080/"
        },
        "id": "HPVEUOJv_TN_",
        "outputId": "c99581d0-febf-4c9f-cd82-27a40de85b97"
      },
      "execution_count": 18,
      "outputs": [
        {
          "output_type": "execute_result",
          "data": {
            "text/plain": [
              "module"
            ]
          },
          "metadata": {},
          "execution_count": 18
        }
      ]
    },
    {
      "cell_type": "code",
      "source": [
        "y = 4.6\n",
        "type(y)\n",
        "print(y)"
      ],
      "metadata": {
        "colab": {
          "base_uri": "https://localhost:8080/"
        },
        "id": "kSQ3Z-zs_A5z",
        "outputId": "ef4b70af-582b-4117-94b4-c499fa639a2f"
      },
      "execution_count": 19,
      "outputs": [
        {
          "output_type": "stream",
          "name": "stdout",
          "text": [
            "4.6\n"
          ]
        }
      ]
    },
    {
      "cell_type": "code",
      "source": [
        "x = \"\"\" this is \\n a verrrryyyy \\n long string \"\"\"\n",
        "\n",
        "print(x)"
      ],
      "metadata": {
        "colab": {
          "base_uri": "https://localhost:8080/"
        },
        "id": "1PRFr4ft_Xqs",
        "outputId": "8ebacdf4-f7b8-4e6e-bf53-245e6ba9d167"
      },
      "execution_count": 21,
      "outputs": [
        {
          "output_type": "stream",
          "name": "stdout",
          "text": [
            " this is \n",
            " a verrrryyyy \n",
            " long string \n"
          ]
        }
      ]
    },
    {
      "cell_type": "code",
      "source": [
        "rounded = round(y)\n",
        "print(rounded)\n",
        "type(rounded)"
      ],
      "metadata": {
        "colab": {
          "base_uri": "https://localhost:8080/"
        },
        "id": "7hlgT_Ky_6r8",
        "outputId": "296f382d-e691-4fef-8aa1-3b917a026b80"
      },
      "execution_count": 25,
      "outputs": [
        {
          "output_type": "stream",
          "name": "stdout",
          "text": [
            "5\n"
          ]
        },
        {
          "output_type": "execute_result",
          "data": {
            "text/plain": [
              "int"
            ]
          },
          "metadata": {},
          "execution_count": 25
        }
      ]
    },
    {
      "cell_type": "code",
      "source": [
        "long_float = 45.33567\n",
        "test_rounding = round (long_float, 4)\n",
        "test_rounding"
      ],
      "metadata": {
        "colab": {
          "base_uri": "https://localhost:8080/"
        },
        "id": "qU6wbcVZAb8P",
        "outputId": "bf745f93-5d56-4c24-d589-ea9b20d85d00"
      },
      "execution_count": 26,
      "outputs": [
        {
          "output_type": "execute_result",
          "data": {
            "text/plain": [
              "45.3357"
            ]
          },
          "metadata": {},
          "execution_count": 26
        }
      ]
    },
    {
      "cell_type": "code",
      "source": [
        "list_1 = ['this is a list', 'that contains', 'both strings and numbers:', 234, 34.56]\n",
        "print(list_1)\n",
        "type(list_1)"
      ],
      "metadata": {
        "colab": {
          "base_uri": "https://localhost:8080/"
        },
        "id": "wnPc7mckAqYS",
        "outputId": "94f877b0-e2ba-48d2-d4cd-bce78ccc203b"
      },
      "execution_count": 28,
      "outputs": [
        {
          "output_type": "stream",
          "name": "stdout",
          "text": [
            "['this is a list', 'that contains', 'both strings and numbers:', 234, 34.56]\n"
          ]
        },
        {
          "output_type": "execute_result",
          "data": {
            "text/plain": [
              "list"
            ]
          },
          "metadata": {},
          "execution_count": 28
        }
      ]
    },
    {
      "cell_type": "code",
      "source": [
        "list_2 = [variable, variable_2, variable_3]\n",
        "print(list_2)"
      ],
      "metadata": {
        "colab": {
          "base_uri": "https://localhost:8080/"
        },
        "id": "BIKLlT7mBKAv",
        "outputId": "2effda98-3aaf-4bf6-b85f-da608a807b8b"
      },
      "execution_count": 29,
      "outputs": [
        {
          "output_type": "stream",
          "name": "stdout",
          "text": [
            "[45, 'this is text', 45.474]\n"
          ]
        }
      ]
    },
    {
      "cell_type": "code",
      "source": [
        "tuple_1 = (\"this is a tuple\", \"that contains\", \"str and numbers\", 243, 24.56)\n",
        "\n",
        "print(type(tuple_1))\n",
        "\n",
        "print(tuple_1)\n",
        "\n",
        "#tuple immutable /unchangeable"
      ],
      "metadata": {
        "colab": {
          "base_uri": "https://localhost:8080/"
        },
        "id": "XZkt-0biCMKx",
        "outputId": "930967cc-9853-4ae2-a399-a843c8c339e8"
      },
      "execution_count": 32,
      "outputs": [
        {
          "output_type": "stream",
          "name": "stdout",
          "text": [
            "<class 'tuple'>\n",
            "('this is a tuple', 'that contains', 'str and numbers', 243, 24.56)\n"
          ]
        }
      ]
    },
    {
      "cell_type": "code",
      "source": [
        "#access first vaule in list\n",
        "\n",
        "list_1[0]"
      ],
      "metadata": {
        "colab": {
          "base_uri": "https://localhost:8080/",
          "height": 36
        },
        "id": "j0Xu0DXzCykd",
        "outputId": "eb10472f-df9e-49ae-e3ea-f8be3c8ba107"
      },
      "execution_count": 33,
      "outputs": [
        {
          "output_type": "execute_result",
          "data": {
            "text/plain": [
              "'this is a list'"
            ],
            "application/vnd.google.colaboratory.intrinsic+json": {
              "type": "string"
            }
          },
          "metadata": {},
          "execution_count": 33
        }
      ]
    },
    {
      "cell_type": "code",
      "source": [
        "#access range of values\n",
        "print(tuple_1[3:])\n",
        "print(tuple_1[2:4])"
      ],
      "metadata": {
        "colab": {
          "base_uri": "https://localhost:8080/"
        },
        "id": "Z3gTIuFKC-pj",
        "outputId": "92977f15-92f5-45c1-ef57-140de0eede6d"
      },
      "execution_count": 36,
      "outputs": [
        {
          "output_type": "stream",
          "name": "stdout",
          "text": [
            "(243, 24.56)\n",
            "('str and numbers', 243)\n"
          ]
        }
      ]
    },
    {
      "cell_type": "code",
      "source": [
        "#try to change immutable dt\n",
        "\n",
        "tuple_1[3] = 345"
      ],
      "metadata": {
        "colab": {
          "base_uri": "https://localhost:8080/",
          "height": 184
        },
        "id": "X88zb8F2DJXL",
        "outputId": "e13061dc-dd46-4904-b873-5ac489e15f81"
      },
      "execution_count": 37,
      "outputs": [
        {
          "output_type": "error",
          "ename": "TypeError",
          "evalue": "'tuple' object does not support item assignment",
          "traceback": [
            "\u001b[0;31m---------------------------------------------------------------------------\u001b[0m",
            "\u001b[0;31mTypeError\u001b[0m                                 Traceback (most recent call last)",
            "\u001b[0;32m<ipython-input-37-1ac191a469bf>\u001b[0m in \u001b[0;36m<cell line: 3>\u001b[0;34m()\u001b[0m\n\u001b[1;32m      1\u001b[0m \u001b[0;31m#try to change immutable dt\u001b[0m\u001b[0;34m\u001b[0m\u001b[0;34m\u001b[0m\u001b[0m\n\u001b[1;32m      2\u001b[0m \u001b[0;34m\u001b[0m\u001b[0m\n\u001b[0;32m----> 3\u001b[0;31m \u001b[0mtuple_1\u001b[0m\u001b[0;34m[\u001b[0m\u001b[0;36m3\u001b[0m\u001b[0;34m]\u001b[0m \u001b[0;34m=\u001b[0m \u001b[0;36m345\u001b[0m\u001b[0;34m\u001b[0m\u001b[0;34m\u001b[0m\u001b[0m\n\u001b[0m",
            "\u001b[0;31mTypeError\u001b[0m: 'tuple' object does not support item assignment"
          ]
        }
      ]
    },
    {
      "cell_type": "code",
      "source": [
        "#change list item\n",
        "print(list_1[3])\n",
        "list_1[3] = 42\n",
        "print(list_1[3])"
      ],
      "metadata": {
        "colab": {
          "base_uri": "https://localhost:8080/"
        },
        "id": "9TzF4A83Db9Y",
        "outputId": "158b1e35-84d9-4609-bc5b-83e006feb9df"
      },
      "execution_count": 38,
      "outputs": [
        {
          "output_type": "stream",
          "name": "stdout",
          "text": [
            "234\n",
            "42\n"
          ]
        }
      ]
    },
    {
      "cell_type": "code",
      "source": [
        "#dictionaries\n",
        "\n",
        "this_dict = {\n",
        "    \"key\":\"values\",\n",
        "    \"name\":\"jupyter\",\n",
        "    \"style\":\"lab\",\n",
        "    \"version\":3.3}\n",
        "\n",
        "print(this_dict[\"name\"])\n",
        "\n",
        "print(type(this_dict))"
      ],
      "metadata": {
        "colab": {
          "base_uri": "https://localhost:8080/"
        },
        "id": "Kipb7oIvDq9Q",
        "outputId": "0376860e-f314-413f-ab15-ca79f5f31091"
      },
      "execution_count": 43,
      "outputs": [
        {
          "output_type": "stream",
          "name": "stdout",
          "text": [
            "jupyter\n",
            "<class 'dict'>\n"
          ]
        }
      ]
    },
    {
      "cell_type": "code",
      "source": [
        "test_dict = {\n",
        "    1:\"one\",\n",
        "    2:\"two\",\n",
        "    3:\"three\"}\n",
        "\n",
        "test_dict\n"
      ],
      "metadata": {
        "colab": {
          "base_uri": "https://localhost:8080/"
        },
        "id": "uu4wEe9fFNOM",
        "outputId": "2dec825b-3dcc-46e1-e886-5062e701f150"
      },
      "execution_count": 44,
      "outputs": [
        {
          "output_type": "execute_result",
          "data": {
            "text/plain": [
              "{1: 'one', 2: 'two', 3: 'three'}"
            ]
          },
          "metadata": {},
          "execution_count": 44
        }
      ]
    },
    {
      "cell_type": "code",
      "source": [
        "#initialising variables\n",
        "empty_str = \"\"\n",
        "empty_int = int()\n",
        "empty_float = float()\n",
        "empty_list = []\n",
        "empty_tuple = ()\n",
        "empty_dict = {}\n",
        "\n",
        "print(type(empty_str), type(empty_int), type(empty_float))"
      ],
      "metadata": {
        "colab": {
          "base_uri": "https://localhost:8080/"
        },
        "id": "sexMW_43FfUP",
        "outputId": "3291ae38-9ac2-40ce-d046-d17d2fbadaf0"
      },
      "execution_count": 51,
      "outputs": [
        {
          "output_type": "stream",
          "name": "stdout",
          "text": [
            "<class 'str'> <class 'int'> <class 'float'>\n"
          ]
        }
      ]
    },
    {
      "cell_type": "code",
      "source": [
        "#pep - python enhancement proposals"
      ],
      "metadata": {
        "id": "8LqvT4XjG_Te"
      },
      "execution_count": null,
      "outputs": []
    },
    {
      "cell_type": "code",
      "source": [
        "#loops\n",
        "x = 4\n",
        "if x > 1:\n",
        "  print(\"yes\")"
      ],
      "metadata": {
        "colab": {
          "base_uri": "https://localhost:8080/"
        },
        "id": "ui6bTkQBIHIf",
        "outputId": "40d6758f-9a87-4f4e-f80d-76732abba3f6"
      },
      "execution_count": 52,
      "outputs": [
        {
          "output_type": "stream",
          "name": "stdout",
          "text": [
            "yes\n"
          ]
        }
      ]
    },
    {
      "cell_type": "code",
      "source": [
        "x = \"other thing\"\n",
        "\n",
        "if x == True:\n",
        "  print(\"True\")\n",
        "elif x == \"other thing\":\n",
        "  print(\"uh oh\")\n",
        "elif x == False:\n",
        "  print(\"FALSE!!\")\n",
        "else:\n",
        "  print(None)"
      ],
      "metadata": {
        "colab": {
          "base_uri": "https://localhost:8080/"
        },
        "id": "Z-X73vdwIWVY",
        "outputId": "fd106bab-cb3d-40ce-ee36-6c8fe15ba4d8"
      },
      "execution_count": 55,
      "outputs": [
        {
          "output_type": "stream",
          "name": "stdout",
          "text": [
            "uh oh\n"
          ]
        }
      ]
    },
    {
      "cell_type": "code",
      "source": [
        "#for loop, lopps through colection of objects or range\n",
        "\n",
        "for_list = [\"apple\", \"banana\", \"orange\"]\n",
        "\n",
        "for x in for_list:\n",
        "  print(x)\n",
        "  #i because item iterable, or mathematical index\n",
        "\n",
        "for x in list_1:\n",
        "  print(x)"
      ],
      "metadata": {
        "colab": {
          "base_uri": "https://localhost:8080/"
        },
        "id": "iWapKLMfI56z",
        "outputId": "b1ddb7f7-7096-48d3-892e-3f4d6596010e"
      },
      "execution_count": 57,
      "outputs": [
        {
          "output_type": "stream",
          "name": "stdout",
          "text": [
            "apple\n",
            "banana\n",
            "orange\n",
            "this is a list\n",
            "that contains\n",
            "both strings and numbers:\n",
            "42\n",
            "34.56\n"
          ]
        }
      ]
    },
    {
      "cell_type": "code",
      "source": [
        "#while loop, stops once condition is met\n",
        "a = 1\n",
        "print(a)\n",
        "while a < 10:\n",
        "  print(a)\n",
        "  a = a + 1\n",
        "  #e.g. iterate though db until specific file is found"
      ],
      "metadata": {
        "colab": {
          "base_uri": "https://localhost:8080/"
        },
        "id": "e5jKrYCcKBT2",
        "outputId": "423b29ac-bb40-4a9b-b002-d84cb918a74a"
      },
      "execution_count": 64,
      "outputs": [
        {
          "output_type": "stream",
          "name": "stdout",
          "text": [
            "1\n",
            "1\n",
            "2\n",
            "3\n",
            "4\n",
            "5\n",
            "6\n",
            "7\n",
            "8\n",
            "9\n"
          ]
        }
      ]
    }
  ]
}